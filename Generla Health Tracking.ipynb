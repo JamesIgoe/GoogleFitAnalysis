{
  "cells": [
    {
      "cell_type": "markdown",
      "metadata": {},
      "source": [
        "# Description"
      ]
    },
    {
      "cell_type": "markdown",
      "metadata": {},
      "source": [
        "Started as a example to generate heatmaps and a list of correlation matrices, it was further developed to perform specific analysis on my persona data. Some aspects of this, the import, heatmap, and flattended corelation list, are reusable or can be adapted to any data set."
      ]
    },
    {
      "cell_type": "markdown",
      "metadata": {},
      "source": [
        "# Import Python Libraries"
      ]
    },
    {
      "cell_type": "markdown",
      "metadata": {},
      "source": [
        "## Visualization / Heatmap Libraries"
      ]
    },
    {
      "cell_type": "code",
      "execution_count": null,
      "metadata": {
        "trusted": true
      },
      "outputs": [],
      "source": [
        "#%matplotlib notebook\n",
        "%matplotlib inline\n",
        "import matplotlib as mpl\n",
        "import matplotlib.pyplot as plt\n",
        "import seaborn as sns\n"
      ]
    },
    {
      "cell_type": "markdown",
      "metadata": {},
      "source": [
        "## Dataframe and Math Function Libraries"
      ]
    },
    {
      "cell_type": "code",
      "execution_count": null,
      "metadata": {
        "tags": [],
        "trusted": true
      },
      "outputs": [],
      "source": [
        "from __future__ import print_function\n",
        "import numpy as np\n",
        "import pandas as pd\n",
        "#!pip install --upgrade pip\n",
        "#!pip install xlrd"
      ]
    },
    {
      "cell_type": "markdown",
      "metadata": {},
      "source": [
        "# Load Data And Explore"
      ]
    },
    {
      "cell_type": "markdown",
      "metadata": {},
      "source": [
        "## Google Download (eventually API)\n",
        "\n",
        "This code uses a single file fromGoogle's Fit downlad, a summary file that is aggegated from the other files. Download yor Google Fit data from the following link, https://takeout.google.com/, and then reference the summary file in the Import section."
      ]
    },
    {
      "cell_type": "markdown",
      "metadata": {},
      "source": [
        "## Import"
      ]
    },
    {
      "cell_type": "code",
      "execution_count": null,
      "metadata": {
        "trusted": true
      },
      "outputs": [],
      "source": [
        "import os\n",
        "os_name = sys.platform\n",
        "\n",
        "#Mac Path\n",
        "if os_name == 'darwin':\n",
        "    filePath = '/Users/igoeja/Documents/GitHub/DataAnalytics/Data/2021-03-08 Daily Summaries.csv'\n",
        "else:\n",
        "    filePath = 'c:\\\\Users\\\\igoej\\\\OneDrive\\\\Documents\\\\GitHub\\\\DataAnalytics\\\\Data\\\\2021-03-08 Daily Summaries.csv'\n",
        "\n",
        "df_fit = pd.read_csv(filePath)\n",
        "df_fit.tail()"
      ]
    },
    {
      "cell_type": "markdown",
      "metadata": {},
      "source": [
        "## Data Review\r\n",
        "\r\n",
        "Uncomment lines to examine aspects of the data set"
      ]
    },
    {
      "cell_type": "code",
      "execution_count": null,
      "metadata": {
        "trusted": true
      },
      "outputs": [],
      "source": [
        "#df_fit.head()"
      ]
    },
    {
      "cell_type": "code",
      "execution_count": null,
      "metadata": {
        "tags": [],
        "trusted": true
      },
      "outputs": [],
      "source": [
        "#df_fit.info()"
      ]
    },
    {
      "cell_type": "code",
      "execution_count": null,
      "metadata": {
        "trusted": true
      },
      "outputs": [],
      "source": [
        "#df_fit.describe()"
      ]
    },
    {
      "cell_type": "code",
      "execution_count": null,
      "metadata": {
        "trusted": true
      },
      "outputs": [],
      "source": [
        "#df_fit.describe(include='object')"
      ]
    },
    {
      "cell_type": "markdown",
      "metadata": {},
      "source": [
        "# Shared Functions"
      ]
    },
    {
      "cell_type": "markdown",
      "metadata": {},
      "source": [
        "## Basic"
      ]
    },
    {
      "cell_type": "code",
      "execution_count": null,
      "metadata": {},
      "outputs": [],
      "source": [
        "def MedianFunction(df, roundValue):\n",
        "    import statistics as stat\n",
        "    cleaned = df.dropna()\n",
        "    return round(stat.median(cleaned), roundValue)"
      ]
    },
    {
      "cell_type": "code",
      "execution_count": null,
      "metadata": {},
      "outputs": [],
      "source": [
        "def AverageFunction(df, roundValue):\n",
        "    cleaned = df.dropna()\n",
        "    return round(sum(cleaned)/len(cleaned), roundValue)"
      ]
    },
    {
      "cell_type": "markdown",
      "metadata": {},
      "source": [
        "# Data Clean and Prep"
      ]
    },
    {
      "cell_type": "code",
      "execution_count": null,
      "metadata": {},
      "outputs": [],
      "source": [
        "df_fit.dropna(axis=1, how='all', inplace=True)"
      ]
    },
    {
      "cell_type": "markdown",
      "metadata": {},
      "source": [
        "# Google Specific Fixes"
      ]
    },
    {
      "cell_type": "code",
      "execution_count": null,
      "metadata": {},
      "outputs": [],
      "source": [
        "df_fit.set_index('Date')"
      ]
    },
    {
      "cell_type": "markdown",
      "metadata": {},
      "source": [
        "## Set Aggregate Values"
      ]
    },
    {
      "cell_type": "code",
      "execution_count": null,
      "metadata": {
        "tags": []
      },
      "outputs": [],
      "source": [
        "df_fit['SleepSum'] = df_fit['Deep sleeping duration (ms)'] + df_fit['Light sleeping duration (ms)'] + df_fit['Sleep duration (ms)']\n",
        "df_fit['sleepSumHours'] = df_fit['SleepSum'] / 3600000"
      ]
    },
    {
      "cell_type": "code",
      "execution_count": null,
      "metadata": {},
      "outputs": [],
      "source": [
        "df_fit['basketballMinutes'] = df_fit['Basketball duration (ms)'] / 60000\n",
        "df_fit['rowingMachineMinutes'] = df_fit['Rowing machine duration (ms)']/ 60000"
      ]
    },
    {
      "cell_type": "markdown",
      "metadata": {},
      "source": [
        "## Lag/Shift Values"
      ]
    },
    {
      "cell_type": "code",
      "execution_count": null,
      "metadata": {},
      "outputs": [],
      "source": [
        "df_fit['rowingMachineMinutesShifted'] = df_fit['rowingMachineMinutes'].shift()\n",
        "df_fit['moveMinutesCountShifted'] = df_fit['Move Minutes count'].shift()\n",
        "df_fit['heartPointsShifted'] = df_fit['Heart Points'].shift()\n",
        "df_fit['distanceShifted'] = df_fit['Distance (m)'].shift()\n",
        "df_fit['basketballMinutesShifted'] = df_fit['basketballMinutes'].shift()\n"
      ]
    },
    {
      "cell_type": "code",
      "execution_count": null,
      "metadata": {},
      "outputs": [],
      "source": [
        "df_fit.columns"
      ]
    },
    {
      "cell_type": "code",
      "execution_count": null,
      "metadata": {},
      "outputs": [],
      "source": [
        "# latest weight\n",
        "# average weight, 30 60, 90\n",
        "# latest BP\n",
        "# average BP, 30, 60, 90\n",
        "# average sleep, 30, 60, 90\n"
      ]
    },
    {
      "cell_type": "markdown",
      "metadata": {},
      "source": [
        "# Measures"
      ]
    },
    {
      "cell_type": "markdown",
      "metadata": {},
      "source": [
        "## Blood Pressure\n"
      ]
    },
    {
      "cell_type": "code",
      "execution_count": null,
      "metadata": {
        "tags": []
      },
      "outputs": [],
      "source": [
        "dia = df['Average diastolic blood pressure (mmHg)']\n",
        "sys = df['Average systolic blood pressure (mmHg)']\n",
        "print('BP (avg):', AverageFunction(sys,1), '/', AverageFunction(dia,1))\n",
        "print('BP (median):',MedianFunction(sys,1), '/', MedianFunction(dia,1))"
      ]
    },
    {
      "cell_type": "code",
      "execution_count": null,
      "metadata": {},
      "outputs": [],
      "source": [
        "plt.figure(figsize=(20,15))\n",
        "plt.plot(df.index, df['Average diastolic blood pressure (mmHg)'])\n",
        "plt.plot(df.index, df['Average systolic blood pressure (mmHg)'])\n",
        "plt.xlabel = 'None'\n",
        "plt.show()\n"
      ]
    },
    {
      "cell_type": "markdown",
      "metadata": {},
      "source": [
        "## Glucose"
      ]
    },
    {
      "cell_type": "code",
      "execution_count": null,
      "metadata": {
        "tags": []
      },
      "outputs": [],
      "source": [
        "bg = df['Average blood glucose (mmol/L)']\n",
        "print('BG (mmol/L):', AverageFunction(bg, 1))\n",
        "print('BG (mmg/dl):', round(AverageFunction(bg, 1) * 18))"
      ]
    },
    {
      "cell_type": "code",
      "execution_count": null,
      "metadata": {},
      "outputs": [],
      "source": [
        "plt.figure(figsize=(20,15))\n",
        "plt.plot(df.index, df['Average blood glucose (mmol/L)'])\n",
        "plt.show()"
      ]
    },
    {
      "cell_type": "markdown",
      "metadata": {},
      "source": [
        "## Weight"
      ]
    },
    {
      "cell_type": "code",
      "execution_count": null,
      "metadata": {
        "tags": []
      },
      "outputs": [],
      "source": [
        "w = df['Average weight (kg)']\n",
        "print('Weight (kg):', AverageFunction(w, 1))\n",
        "print('Weight (lbs):', round(AverageFunction(w, 1) * 2.2,1))\n"
      ]
    },
    {
      "cell_type": "code",
      "execution_count": null,
      "metadata": {},
      "outputs": [],
      "source": [
        "plt.figure(figsize=(20,15))\n",
        "plt.plot(df['Date'], df['Average weight (kg)'])\n",
        "plt.show()"
      ]
    },
    {
      "cell_type": "markdown",
      "metadata": {},
      "source": [
        "## Sleep"
      ]
    },
    {
      "cell_type": "code",
      "execution_count": null,
      "metadata": {
        "tags": []
      },
      "outputs": [],
      "source": [
        "print('Sleep:', AverageFunction(df['sleepSumHours'],2))\n",
        "print('Sleep (Median):', MedianFunction(df['sleepSumHours'], 2))"
      ]
    },
    {
      "cell_type": "markdown",
      "metadata": {},
      "source": [
        "## Activity"
      ]
    },
    {
      "cell_type": "code",
      "execution_count": null,
      "metadata": {},
      "outputs": [],
      "source": []
    }
  ],
  "metadata": {
    "kernelspec": {
      "display_name": "Python 3.8.5 64-bit ('base': conda)",
      "name": "python385jvsc74a57bd0b3ba2566441a7c06988d0923437866b63cedc61552a5af99d1f4fb67d367b25f"
    },
    "language_info": {
      "name": "python",
      "version": ""
    }
  },
  "nbformat": 4,
  "nbformat_minor": 2
}