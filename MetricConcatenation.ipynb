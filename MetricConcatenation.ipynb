{
 "cells": [
  {
   "cell_type": "code",
   "execution_count": null,
   "metadata": {},
   "outputs": [],
   "source": [
    "import pandas as pd\n",
    "import glob\n",
    "import datetime\n",
    "import xlrd\n",
    "from xlrd import open_workbook\n",
    "import os"
   ]
  },
  {
   "cell_type": "markdown",
   "metadata": {},
   "source": [
    "#### Read and Join Files"
   ]
  },
  {
   "cell_type": "code",
   "execution_count": 16,
   "metadata": {},
   "outputs": [],
   "source": [
    "path = os.path.expanduser(\"~/Downloads/Metrics/\")\n",
    "filenames = glob.glob(path + '*.csv')\n",
    "\n",
    "df_csv_append = pd.DataFrame()\n",
    "for file in filenames:\n",
    "   \n",
    "   ##fileName = os.path.basename(file)\n",
    "   fileName = os.path.splitext(os.path.basename(file))[0]\n",
    "\n",
    "   #print(fileName)\n",
    "   \n",
    "   df = pd.read_csv(file)\n",
    "   df['Date'] = fileName\n",
    "\n",
    "   df_csv_append = pd.concat([df_csv_append, df], ignore_index=True)\n"
   ]
  },
  {
   "cell_type": "markdown",
   "metadata": {},
   "source": [
    "#### Output File"
   ]
  },
  {
   "cell_type": "code",
   "execution_count": null,
   "metadata": {},
   "outputs": [],
   "source": [
    "fmt='%Y-%m-%d-%H-%M-%S'\n",
    "file_end = datetime.datetime.now().strftime(fmt) + '.csv'\n",
    "output_file_name = path + 'DailySummary_' + file_end\n",
    "\n",
    "df_csv_append.to_csv(output_file_name, index=False)"
   ]
  }
 ],
 "metadata": {
  "interpreter": {
   "hash": "ca2239747ff5888fa5ab467a5dd7f2d55da94f7413a210aebe1c307f6287627c"
  },
  "kernelspec": {
   "display_name": "Python 3.10.2 64-bit",
   "language": "python",
   "name": "python3"
  },
  "language_info": {
   "codemirror_mode": {
    "name": "ipython",
    "version": 3
   },
   "file_extension": ".py",
   "mimetype": "text/x-python",
   "name": "python",
   "nbconvert_exporter": "python",
   "pygments_lexer": "ipython3",
   "version": "3.9.0"
  },
  "orig_nbformat": 4
 },
 "nbformat": 4,
 "nbformat_minor": 2
}
