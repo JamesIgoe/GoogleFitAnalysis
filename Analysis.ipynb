{
  "cells": [
    {
      "cell_type": "markdown",
      "metadata": {},
      "source": [
        "# Description"
      ]
    },
    {
      "cell_type": "markdown",
      "metadata": {},
      "source": [
        "TBD....."
      ]
    },
    {
      "cell_type": "markdown",
      "metadata": {},
      "source": [
        "# Import Python Libraries"
      ]
    },
    {
      "cell_type": "markdown",
      "metadata": {},
      "source": [
        "## Visualization / Heatmap Libraries"
      ]
    },
    {
      "cell_type": "code",
      "execution_count": null,
      "metadata": {
        "trusted": true
      },
      "outputs": [],
      "source": [
        "#%matplotlib notebook\n",
        "%matplotlib inline\n",
        "import matplotlib as mpl\n",
        "import matplotlib.pyplot as plt\n",
        "import seaborn as sns\n"
      ]
    },
    {
      "cell_type": "markdown",
      "metadata": {},
      "source": [
        "## Dataframe and Math Function Libraries"
      ]
    },
    {
      "cell_type": "code",
      "execution_count": null,
      "metadata": {
        "tags": [],
        "trusted": true
      },
      "outputs": [],
      "source": [
        "from __future__ import print_function\n",
        "import numpy as np\n",
        "import pandas as pd\n",
        "#!pip install --upgrade pip\n",
        "#!pip install xlrd"
      ]
    },
    {
      "cell_type": "markdown",
      "metadata": {},
      "source": [
        "# Load Data And Explore"
      ]
    },
    {
      "cell_type": "markdown",
      "metadata": {},
      "source": [
        "## Google Download (eventually API)\r\n",
        "\r\n",
        "This code uses a single file fromGoogle's Fit downlad, a summary file that is aggegated from the other files. Download yor Google Fit data from the following link, https://takeout.google.com/, and then reference the summary file in the Import section."
      ]
    },
    {
      "cell_type": "markdown",
      "metadata": {},
      "source": [
        "## Import"
      ]
    },
    {
      "cell_type": "code",
      "execution_count": null,
      "metadata": {
        "trusted": true
      },
      "outputs": [],
      "source": [
        "import os\r\n",
        "filePath = 'c:\\\\Users\\\\igoej\\\\OneDrive\\\\Documents\\\\GitHub\\\\DataAnalytics\\\\Data\\\\2021-03-08 Daily Summaries.csv'\r\n",
        "df_fit = pd.read_csv(filePath)\r\n",
        "#df_fit.tail()"
      ]
    },
    {
      "cell_type": "markdown",
      "metadata": {},
      "source": [
        "## Data Review\r\n",
        "\r\n",
        "Uncomment lines to examine aspects of the data set"
      ]
    },
    {
      "cell_type": "code",
      "execution_count": null,
      "metadata": {
        "trusted": true
      },
      "outputs": [],
      "source": [
        "#df_fit.head()"
      ]
    },
    {
      "cell_type": "code",
      "execution_count": null,
      "metadata": {
        "tags": [],
        "trusted": true
      },
      "outputs": [],
      "source": [
        "#df_fit.info()"
      ]
    },
    {
      "cell_type": "code",
      "execution_count": null,
      "metadata": {
        "trusted": true
      },
      "outputs": [],
      "source": [
        "#df_fit.describe()"
      ]
    },
    {
      "cell_type": "code",
      "execution_count": null,
      "metadata": {
        "trusted": true
      },
      "outputs": [],
      "source": [
        "#df_fit.describe(include='object')"
      ]
    },
    {
      "cell_type": "markdown",
      "metadata": {},
      "source": [
        "# Shared Functions"
      ]
    },
    {
      "cell_type": "markdown",
      "metadata": {},
      "source": [
        "## Correlation"
      ]
    },
    {
      "cell_type": "code",
      "execution_count": null,
      "metadata": {},
      "outputs": [],
      "source": [
        "def corrFilter(x: pd.DataFrame, bound: float):\n",
        "    xCorr = x.corr()\n",
        "    xFiltered = xCorr[((xCorr >= bound) | (xCorr <= -bound)) & (xCorr !=1.000)]\n",
        "    return xFiltered"
      ]
    },
    {
      "cell_type": "code",
      "execution_count": null,
      "metadata": {
        "tags": []
      },
      "outputs": [],
      "source": [
        "def corrFilterFlattened(x: pd.DataFrame, bound: float):\n",
        "    xFiltered = corrFilter(x, bound)\n",
        "    xFlattened = xFiltered.unstack().sort_values().drop_duplicates()\n",
        "    return xFlattened\n"
      ]
    },
    {
      "cell_type": "code",
      "execution_count": null,
      "metadata": {},
      "outputs": [],
      "source": [
        "def filterForLabels(df: pd.DataFrame, label):  \n",
        "    try:\n",
        "        sideLeft = df[label,]\n",
        "    except:\n",
        "        sideLeft = pd.DataFrame()\n",
        "\n",
        "    try:\n",
        "        sideRight = df[:,label]\n",
        "    except:\n",
        "        sideRight = pd.DataFrame()\n",
        "\n",
        "    if sideLeft.empty and sideRight.empty:\n",
        "        return pd.DataFrame()\n",
        "    elif sideLeft.empty:        \n",
        "        concat = sideRight.to_frame()\n",
        "        concat.rename(columns={0:'Corr'},inplace=True)\n",
        "        return concat\n",
        "    elif sideRight.empty:\n",
        "        concat = sideLeft.to_frame()\n",
        "        concat.rename(columns={0:'Corr'},inplace=True)\n",
        "        return concat\n",
        "    else:\n",
        "        concat = pd.concat([sideLeft,sideRight], axis=1)\n",
        "        concat[\"Corr\"] = concat[0].fillna(0) + concat[1].fillna(0)\n",
        "        concat.drop(columns=[0,1], inplace=True)\n",
        "        return concat"
      ]
    },
    {
      "cell_type": "markdown",
      "metadata": {},
      "source": [
        "## Basic"
      ]
    },
    {
      "cell_type": "code",
      "execution_count": null,
      "metadata": {},
      "outputs": [],
      "source": [
        "def MedianFunction(df, roundValue):\n",
        "    import statistics as stat\n",
        "    cleaned = df.dropna()\n",
        "    return round(stat.median(cleaned), roundValue)"
      ]
    },
    {
      "cell_type": "code",
      "execution_count": null,
      "metadata": {},
      "outputs": [],
      "source": [
        "def AverageFunction(df, roundValue):\n",
        "    cleaned = df.dropna()\n",
        "    return round(sum(cleaned)/len(cleaned), roundValue)"
      ]
    },
    {
      "cell_type": "markdown",
      "metadata": {},
      "source": [
        "# Data Clean and Prep"
      ]
    },
    {
      "cell_type": "code",
      "execution_count": null,
      "metadata": {},
      "outputs": [],
      "source": [
        "df_fit.dropna(axis=1, how='all', inplace=True)"
      ]
    },
    {
      "cell_type": "markdown",
      "metadata": {},
      "source": [
        "# Google Specific Fixes"
      ]
    },
    {
      "cell_type": "code",
      "execution_count": null,
      "metadata": {},
      "outputs": [],
      "source": [
        "df_fit.set_index('Date')"
      ]
    },
    {
      "cell_type": "markdown",
      "metadata": {},
      "source": [
        "## Set Aggregate Values"
      ]
    },
    {
      "cell_type": "code",
      "execution_count": null,
      "metadata": {
        "tags": []
      },
      "outputs": [],
      "source": [
        "df_fit['SleepSum'] = df_fit['Deep sleeping duration (ms)'] + df_fit['Light sleeping duration (ms)'] + df_fit['Sleep duration (ms)']\n",
        "df_fit['sleepSumHours'] = df_fit['SleepSum'] / 3600000"
      ]
    },
    {
      "cell_type": "code",
      "execution_count": null,
      "metadata": {},
      "outputs": [],
      "source": [
        "df_fit['basketballMinutes'] = df_fit['Basketball duration (ms)'] / 60000\n",
        "df_fit['rowingMachineMinutes'] = df_fit['Rowing machine duration (ms)']/ 60000"
      ]
    },
    {
      "cell_type": "markdown",
      "metadata": {},
      "source": [
        "## Lag/Shift Values"
      ]
    },
    {
      "cell_type": "code",
      "execution_count": null,
      "metadata": {},
      "outputs": [],
      "source": [
        "df_fit['rowingMachineMinutesShifted'] = df_fit['rowingMachineMinutes'].shift()\n",
        "df_fit['moveMinutesCountShifted'] = df_fit['Move Minutes count'].shift()\n",
        "df_fit['heartPointsShifted'] = df_fit['Heart Points'].shift()\n",
        "df_fit['distanceShifted'] = df_fit['Distance (m)'].shift()\n",
        "df_fit['basketballMinutesShifted'] = df_fit['basketballMinutes'].shift()\n"
      ]
    },
    {
      "cell_type": "code",
      "execution_count": null,
      "metadata": {},
      "outputs": [],
      "source": [
        "df_fit.columns"
      ]
    },
    {
      "cell_type": "markdown",
      "metadata": {},
      "source": [
        "# Create Correlation Heat Map and List"
      ]
    },
    {
      "cell_type": "code",
      "execution_count": null,
      "metadata": {},
      "outputs": [],
      "source": [
        "#set data set for analysis\n",
        "df = df_fit[['Date', 'Average heart rate (bpm)','Average weight (kg)','Average systolic blood pressure (mmHg)','Average diastolic blood pressure (mmHg)','Average blood glucose (mmol/L)','Heart Points','SleepSum', 'sleepSumHours','basketballMinutes', 'basketballMinutesShifted', 'rowingMachineMinutes','rowingMachineMinutesShifted', 'moveMinutesCountShifted','heartPointsShifted','Distance (m)', 'distanceShifted', 'Deep sleeping duration (ms)', 'Light sleeping duration (ms)']]\n",
        "filterValue = 0.3\n",
        "plt.figure(figsize=(30,15))\n",
        "sns.heatmap(corrFilter(df, filterValue), annot=True, cmap=\"YlOrRd\")\n",
        "plt.show()"
      ]
    },
    {
      "cell_type": "code",
      "execution_count": null,
      "metadata": {},
      "outputs": [],
      "source": [
        "corr_fit_filtered = corrFilterFlattened(df, filterValue)\n",
        "half = corr_fit_filtered.count() / 2\n",
        "corr_fit_filtered"
      ]
    },
    {
      "cell_type": "markdown",
      "metadata": {},
      "source": [
        "# Measures"
      ]
    },
    {
      "cell_type": "markdown",
      "metadata": {},
      "source": [
        "## Blood Pressure\n"
      ]
    },
    {
      "cell_type": "code",
      "execution_count": null,
      "metadata": {},
      "outputs": [],
      "source": [
        "filterForLabels(corr_fit_filtered, 'Average systolic blood pressure (mmHg)')"
      ]
    },
    {
      "cell_type": "code",
      "execution_count": null,
      "metadata": {},
      "outputs": [],
      "source": [
        "filterForLabels(corr_fit_filtered, 'Average diastolic blood pressure (mmHg)')"
      ]
    },
    {
      "cell_type": "code",
      "execution_count": null,
      "metadata": {
        "tags": []
      },
      "outputs": [],
      "source": [
        "dia = df['Average diastolic blood pressure (mmHg)']\n",
        "sys = df['Average systolic blood pressure (mmHg)']\n",
        "print('BP (avg):', AverageFunction(sys,1), '/', AverageFunction(dia,1))\n",
        "print('BP (median):',MedianFunction(sys,1), '/', MedianFunction(dia,1))"
      ]
    },
    {
      "cell_type": "code",
      "execution_count": null,
      "metadata": {},
      "outputs": [],
      "source": [
        "plt.figure(figsize=(20,15))\n",
        "plt.plot(df.index, df['Average diastolic blood pressure (mmHg)'])\n",
        "plt.plot(df.index, df['Average systolic blood pressure (mmHg)'])\n",
        "plt.xlabel = 'None'\n",
        "plt.show()\n"
      ]
    },
    {
      "cell_type": "code",
      "execution_count": null,
      "metadata": {},
      "outputs": [],
      "source": [
        "plt.figure(figsize=(20,15))\n",
        "sns.regplot(x='heartPointsShifted', y='Average systolic blood pressure (mmHg)', data=df)\n",
        "plt.ylim(100,)"
      ]
    },
    {
      "cell_type": "markdown",
      "metadata": {},
      "source": [
        "## Glucose"
      ]
    },
    {
      "cell_type": "code",
      "execution_count": null,
      "metadata": {},
      "outputs": [],
      "source": [
        "filterForLabels(corr_fit_filtered, 'Average blood glucose (mmol/L)')"
      ]
    },
    {
      "cell_type": "code",
      "execution_count": null,
      "metadata": {
        "tags": []
      },
      "outputs": [],
      "source": [
        "bg = df['Average blood glucose (mmol/L)']\n",
        "print('BG (mmol/L):', AverageFunction(bg, 1))\n",
        "print('BG (mmg/dl):', round(AverageFunction(bg, 1) * 18))"
      ]
    },
    {
      "cell_type": "code",
      "execution_count": null,
      "metadata": {},
      "outputs": [],
      "source": [
        "plt.figure(figsize=(20,15))\n",
        "plt.plot(df.index, df['Average blood glucose (mmol/L)'])\n",
        "plt.show()"
      ]
    },
    {
      "cell_type": "markdown",
      "metadata": {},
      "source": [
        "## Weight"
      ]
    },
    {
      "cell_type": "code",
      "execution_count": null,
      "metadata": {},
      "outputs": [],
      "source": [
        "filterForLabels(corr_fit_filtered, 'Average weight (kg)')"
      ]
    },
    {
      "cell_type": "code",
      "execution_count": null,
      "metadata": {
        "tags": []
      },
      "outputs": [],
      "source": [
        "w = df['Average weight (kg)']\n",
        "print('Weight (kg):', AverageFunction(w, 1))\n",
        "print('Weight (lbs):', round(AverageFunction(w, 1) * 2.2,1))\n"
      ]
    },
    {
      "cell_type": "code",
      "execution_count": null,
      "metadata": {},
      "outputs": [],
      "source": [
        "plt.figure(figsize=(20,15))\n",
        "plt.plot(df['Date'], df['Average weight (kg)'])\n",
        "plt.show()"
      ]
    },
    {
      "cell_type": "markdown",
      "metadata": {},
      "source": [
        "## Sleep"
      ]
    },
    {
      "cell_type": "code",
      "execution_count": null,
      "metadata": {},
      "outputs": [],
      "source": [
        "filterForLabels(corr_fit_filtered, 'sleepSumHours')"
      ]
    },
    {
      "cell_type": "code",
      "execution_count": null,
      "metadata": {},
      "outputs": [],
      "source": [
        "filterForLabels(corr_fit_filtered, 'Deep sleeping duration (ms)')"
      ]
    },
    {
      "cell_type": "code",
      "execution_count": null,
      "metadata": {},
      "outputs": [],
      "source": [
        "filterForLabels(corr_fit_filtered, 'Light sleeping duration (ms)')"
      ]
    },
    {
      "cell_type": "code",
      "execution_count": null,
      "metadata": {
        "tags": []
      },
      "outputs": [],
      "source": [
        "print('Sleep:', AverageFunction(df['sleepSumHours'],2))\n",
        "print('Sleep (Median):', MedianFunction(df['sleepSumHours'], 2))"
      ]
    },
    {
      "cell_type": "code",
      "execution_count": null,
      "metadata": {
        "tags": []
      },
      "outputs": [],
      "source": [
        "plt.figure(figsize=(20,15))\n",
        "sns.regplot(x='sleepSumHours', y='rowingMachineMinutesShifted', data=df)\n",
        "plt.ylim(10,)"
      ]
    },
    {
      "cell_type": "markdown",
      "metadata": {},
      "source": [
        "## Activity"
      ]
    },
    {
      "cell_type": "code",
      "execution_count": null,
      "metadata": {},
      "outputs": [],
      "source": [
        "filterForLabels(corr_fit_filtered, 'distanceShifted')"
      ]
    },
    {
      "cell_type": "code",
      "execution_count": null,
      "metadata": {},
      "outputs": [],
      "source": [
        "filterForLabels(corr_fit_filtered, 'rowingMachineMinutesShifted')"
      ]
    },
    {
      "cell_type": "code",
      "execution_count": null,
      "metadata": {},
      "outputs": [],
      "source": [
        "filterForLabels(corr_fit_filtered, 'basketballMinutesShifted')"
      ]
    },
    {
      "cell_type": "code",
      "execution_count": null,
      "metadata": {},
      "outputs": [],
      "source": [
        "filterForLabels(corr_fit_filtered, 'moveMinutesCountShifted')"
      ]
    },
    {
      "cell_type": "code",
      "execution_count": null,
      "metadata": {},
      "outputs": [],
      "source": [
        "filterForLabels(corr_fit_filtered, 'heartPointsShifted')"
      ]
    },
    {
      "cell_type": "code",
      "execution_count": null,
      "metadata": {},
      "outputs": [],
      "source": []
    },
    {
      "cell_type": "markdown",
      "metadata": {},
      "source": [
        "## Status and Averages"
      ]
    },
    {
      "cell_type": "code",
      "execution_count": null,
      "metadata": {},
      "outputs": [],
      "source": [
        "# latest weight\n",
        "# average weight, 30 60, 90\n",
        "# latest BP\n",
        "# average BP, 30, 60, 90\n",
        "# average sleep, 30, 60, 90\n"
      ]
    }
  ],
  "metadata": {
    "kernelspec": {
      "display_name": "Python 3",
      "language": "python",
      "name": "python3"
    },
    "language_info": {
      "codemirror_mode": {
        "name": "ipython",
        "version": 3
      },
      "file_extension": ".py",
      "mimetype": "text/x-python",
      "name": "python",
      "nbconvert_exporter": "python",
      "pygments_lexer": "ipython3",
      "version": "3.6.5"
    }
  },
  "nbformat": 4,
  "nbformat_minor": 2
}