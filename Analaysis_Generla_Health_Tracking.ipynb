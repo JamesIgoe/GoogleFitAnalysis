{
  "cells": [
    {
      "cell_type": "markdown",
      "metadata": {},
      "source": [
        "# Description"
      ]
    },
    {
      "cell_type": "markdown",
      "metadata": {},
      "source": [
        "Import, transform, and analysis (mean, mode, SD) of Google fit data."
      ]
    },
    {
      "cell_type": "markdown",
      "metadata": {},
      "source": [
        "# Import Python Libraries"
      ]
    },
    {
      "cell_type": "markdown",
      "metadata": {},
      "source": [
        "## Visualization / Heatmap Libraries"
      ]
    },
    {
      "cell_type": "code",
      "execution_count": null,
      "metadata": {
        "trusted": true
      },
      "outputs": [],
      "source": [
        "#%matplotlib notebook\n",
        "#%matplotlib inline\n",
        "import matplotlib as mpl\n",
        "import matplotlib.pyplot as plt\n",
        "import seaborn as sns"
      ]
    },
    {
      "cell_type": "markdown",
      "metadata": {},
      "source": [
        "## Dataframe and Math Function Libraries"
      ]
    },
    {
      "cell_type": "code",
      "execution_count": null,
      "metadata": {
        "tags": [],
        "trusted": true
      },
      "outputs": [],
      "source": [
        "from __future__ import print_function\n",
        "import numpy as np\n",
        "import pandas as pd\n",
        "#!pip install --upgrade pip\n",
        "#!pip install xlrd"
      ]
    },
    {
      "cell_type": "markdown",
      "metadata": {},
      "source": [
        "# Load Data And Explore"
      ]
    },
    {
      "cell_type": "markdown",
      "metadata": {},
      "source": [
        "## Google Download (eventually API)\n",
        "\n",
        "This code uses a single file fromGoogle's Fit downlad, a summary file that is aggegated from the other files. Download yor Google Fit data from the following link, https://takeout.google.com/, and then reference the summary file in the Import section."
      ]
    },
    {
      "cell_type": "markdown",
      "metadata": {},
      "source": [
        "## Import"
      ]
    },
    {
      "cell_type": "code",
      "execution_count": null,
      "metadata": {
        "trusted": true
      },
      "outputs": [],
      "source": [
        "import os\n",
        "os_name = os.sys.platform\n",
        "\n",
        "fileName = '2025-05-06 Daily Summary - One Year.csv'\n",
        "#Mac Path\n",
        "if os_name == 'darwin':\n",
        "    filePath = '/Users/igoeja/Documents/GitHub/DataAnalytics/Data/' + fileName\n",
        "else:\n",
        "    filePath = 'c:\\\\Users\\\\igoej\\\\OneDrive\\\\Documents\\\\GitHub\\\\DataAnalytics\\\\Data\\\\' + fileName\n",
        "\n",
        "df_fit = pd.read_csv(filePath)\n",
        "df_fit.info()"
      ]
    },
    {
      "cell_type": "markdown",
      "metadata": {},
      "source": [
        "# Shared Functions"
      ]
    },
    {
      "cell_type": "markdown",
      "metadata": {},
      "source": [
        "## Basic"
      ]
    },
    {
      "cell_type": "code",
      "execution_count": null,
      "metadata": {},
      "outputs": [],
      "source": [
        "def MedianFunction(df, roundValue):\n",
        "    import statistics as stat\n",
        "    cleaned = df.dropna()\n",
        "    return round(stat.median(cleaned), roundValue)"
      ]
    },
    {
      "cell_type": "code",
      "execution_count": null,
      "metadata": {},
      "outputs": [],
      "source": [
        "def AverageFunction(df, roundValue):\n",
        "    cleaned = df.dropna()\n",
        "    return round(sum(cleaned)/len(cleaned), roundValue)"
      ]
    },
    {
      "cell_type": "markdown",
      "metadata": {},
      "source": [
        "# Data Clean and Prep"
      ]
    },
    {
      "cell_type": "code",
      "execution_count": null,
      "metadata": {},
      "outputs": [],
      "source": [
        "df_fit.dropna(axis=1, how='all', inplace=True)"
      ]
    },
    {
      "cell_type": "markdown",
      "metadata": {},
      "source": [
        "# Google Specific Fixes"
      ]
    },
    {
      "cell_type": "code",
      "execution_count": null,
      "metadata": {},
      "outputs": [],
      "source": [
        "df_fit.set_index('Date')"
      ]
    },
    {
      "cell_type": "markdown",
      "metadata": {},
      "source": [
        "## Set Aggregate Values"
      ]
    },
    {
      "cell_type": "code",
      "execution_count": null,
      "metadata": {
        "tags": []
      },
      "outputs": [],
      "source": [
        "#df_fit['SleepSum'] = df_fit['Deep sleeping duration (ms)'] + df_fit['Light sleeping duration (ms)'] + df_fit['Sleep duration (ms)']\n",
        "#df_fit['sleepSumHours'] = df_fit['SleepSum'] / 3600000"
      ]
    },
    {
      "cell_type": "code",
      "execution_count": null,
      "metadata": {},
      "outputs": [],
      "source": [
        "df_fit['basketballMinutes'] = df_fit['Basketball duration (ms)'] / 60000\n",
        "df_fit['rowingMachineMinutes'] = df_fit['Rowing machine duration (ms)']/ 60000"
      ]
    },
    {
      "cell_type": "markdown",
      "metadata": {},
      "source": [
        "## Lag/Shift Values"
      ]
    },
    {
      "cell_type": "code",
      "execution_count": null,
      "metadata": {},
      "outputs": [],
      "source": [
        "df_fit['rowingMachineMinutesShifted'] = df_fit['rowingMachineMinutes'].shift()\n",
        "df_fit['moveMinutesCountShifted'] = df_fit['Move Minutes count'].shift()\n",
        "df_fit['heartPointsShifted'] = df_fit['Heart Points'].shift()\n",
        "df_fit['distanceShifted'] = df_fit['Distance (m)'].shift()\n",
        "df_fit['basketballMinutesShifted'] = df_fit['basketballMinutes'].shift()\n"
      ]
    },
    {
      "cell_type": "code",
      "execution_count": null,
      "metadata": {},
      "outputs": [],
      "source": [
        "#df_fit.columns"
      ]
    },
    {
      "cell_type": "markdown",
      "metadata": {},
      "source": [
        "## Filter Data Set"
      ]
    },
    {
      "cell_type": "code",
      "execution_count": null,
      "metadata": {},
      "outputs": [],
      "source": [
        "#set data set for analysis\n",
        "dfi = df_fit[df_fit['Date'] >= '2021-01-01']\n",
        "\n",
        "df = dfi[['Date', 'Average heart rate (bpm)','Average weight (kg)','Average systolic blood pressure (mmHg)','Average diastolic blood pressure (mmHg)','Average blood glucose (mmol/L)','Heart Points','basketballMinutes', 'basketballMinutesShifted', 'rowingMachineMinutes','rowingMachineMinutesShifted', 'moveMinutesCountShifted','heartPointsShifted','Distance (m)', 'distanceShifted', 'Max heart rate (bpm)','Min heart rate (bpm)']]"
      ]
    },
    {
      "cell_type": "markdown",
      "metadata": {},
      "source": [
        "# Data Review"
      ]
    },
    {
      "cell_type": "code",
      "execution_count": null,
      "metadata": {},
      "outputs": [],
      "source": [
        "df.describe()"
      ]
    },
    {
      "cell_type": "markdown",
      "metadata": {},
      "source": [
        "# Measures"
      ]
    },
    {
      "cell_type": "markdown",
      "metadata": {},
      "source": [
        "## Blood Pressure\n"
      ]
    },
    {
      "cell_type": "code",
      "execution_count": null,
      "metadata": {
        "tags": []
      },
      "outputs": [],
      "source": [
        "dia = df['Average diastolic blood pressure (mmHg)'].dropna()\n",
        "sys = df['Average systolic blood pressure (mmHg)'].dropna()\n",
        "print('BP (avg):', AverageFunction(sys,1), '/', AverageFunction(dia,1))\n",
        "print('BP (median):',MedianFunction(sys,1), '/', MedianFunction(dia,1))\n",
        "print('BP (std):', round(sys.std(),1), '/', round(dia.std(),1))"
      ]
    },
    {
      "cell_type": "markdown",
      "metadata": {},
      "source": [
        "## Glucose"
      ]
    },
    {
      "cell_type": "code",
      "execution_count": null,
      "metadata": {
        "tags": []
      },
      "outputs": [],
      "source": [
        "bg = df['Average blood glucose (mmol/L)']\n",
        "bg2 = df['Average blood glucose (mmol/L)'] * 18\n",
        "print('BG (mmol/L):', AverageFunction(bg, 1))\n",
        "print('BG (mmoL/L, std):', round(bg.std(),5))\n",
        "print('BG (mmg/dl):', round(AverageFunction(bg2, 1)))\n",
        "print('BG (mmg/dl, std):', round(bg2.std(),5))"
      ]
    },
    {
      "cell_type": "markdown",
      "metadata": {},
      "source": [
        "## Weight"
      ]
    },
    {
      "cell_type": "code",
      "execution_count": null,
      "metadata": {
        "tags": []
      },
      "outputs": [],
      "source": [
        "w = df['Average weight (kg)']\n",
        "print('Weight (kg):', AverageFunction(w, 1))\n",
        "print('Weight (lbs):', round(AverageFunction(w, 1) * 2.2,1))"
      ]
    },
    {
      "cell_type": "markdown",
      "metadata": {},
      "source": [
        "## Sleep"
      ]
    },
    {
      "cell_type": "code",
      "execution_count": null,
      "metadata": {
        "tags": []
      },
      "outputs": [],
      "source": [
        "#print('Sleep:', AverageFunction(df['sleepSumHours'],2))\n",
        "#print('Sleep (Median):', MedianFunction(df['sleepSumHours'], 2))"
      ]
    },
    {
      "cell_type": "markdown",
      "metadata": {},
      "source": [
        "## Activity"
      ]
    },
    {
      "cell_type": "code",
      "execution_count": null,
      "metadata": {},
      "outputs": [],
      "source": [
        "print('Distance (m):', AverageFunction(df['Distance (m)'],2))\n",
        "print('Distance (m) (Median):', MedianFunction(df['Distance (m)'], 2))\n",
        "print()\n",
        "print('Heart Points:', AverageFunction(df['Heart Points'],2))\n",
        "print('Heart Points (Median):', MedianFunction(df['Heart Points'], 2))\n",
        "print()\n",
        "print('Move Minutes:', AverageFunction(df['moveMinutesCountShifted'],2))\n",
        "print('Move Minutes (Median):', MedianFunction(df['moveMinutesCountShifted'], 2))\n"
      ]
    },
    {
      "cell_type": "markdown",
      "metadata": {},
      "source": [
        "## Heart Rate"
      ]
    },
    {
      "cell_type": "code",
      "execution_count": null,
      "metadata": {},
      "outputs": [],
      "source": [
        "print('Average heart rate (bpm):', AverageFunction(df['Average heart rate (bpm)'],2))\n",
        "print('Max heart rate (bpm):', AverageFunction(df['Max heart rate (bpm)'], 2))\n",
        "print('Min heart rate (bpm):', AverageFunction(df['Min heart rate (bpm)'], 2))"
      ]
    }
  ],
  "metadata": {
    "kernelspec": {
      "display_name": "Python 3",
      "language": "python",
      "name": "python3"
    },
    "language_info": {
      "codemirror_mode": {
        "name": "ipython",
        "version": 3
      },
      "file_extension": ".py",
      "mimetype": "text/x-python",
      "name": "python",
      "nbconvert_exporter": "python",
      "pygments_lexer": "ipython3",
      "version": "3.10.11"
    },
    "metadata": {
      "interpreter": {
        "hash": "e774977668b7c0ae8309835a5187aa7fbf7669e7d0bb59755bc63e573643edcd"
      }
    }
  },
  "nbformat": 4,
  "nbformat_minor": 2
}
